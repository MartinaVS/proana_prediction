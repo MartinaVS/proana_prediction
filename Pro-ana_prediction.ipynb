{
 "cells": [
  {
   "cell_type": "code",
   "execution_count": 1,
   "metadata": {},
   "outputs": [],
   "source": [
    "import requests\n",
    "import speech_recognition as sr \n",
    "import moviepy.editor as mp\n",
    "import pytesseract\n",
    "from PIL import Image\n",
    "import PIL\n",
    "import io\n",
    "import random\n",
    "import string\n",
    "import re\n",
    "from face2bmi.scripts.models import FacePrediction"
   ]
  },
  {
   "cell_type": "code",
   "execution_count": 2,
   "metadata": {},
   "outputs": [],
   "source": [
    "pytesseract.pytesseract.tesseract_cmd = r'/usr/local/bin/tesseract'"
   ]
  },
  {
   "cell_type": "code",
   "execution_count": 3,
   "metadata": {},
   "outputs": [],
   "source": [
    "ana_keys = [\"thinsp\", \"thynsp\", \"proana\", \"thighgap\", \"skinny\", \"meansp\"]\n",
    "tiktok_hash = False\n",
    "tiktok_tn = False\n",
    "tiktok_bmi = False"
   ]
  },
  {
   "cell_type": "code",
   "execution_count": 4,
   "metadata": {},
   "outputs": [],
   "source": [
    "link = 'https://www.tiktok.com/@userz6fhxkb9bs/video/6950043294806199557'\n",
    "link = re.split(r'\\?', link)[0]\n",
    "getlink = 'https://www.tiktok.com/oembed?url=' + link\n",
    "r = requests.get(getlink)\n",
    "title = r.json()['title']\n",
    "tn_url = r.json()['thumbnail_url']"
   ]
  },
  {
   "cell_type": "code",
   "execution_count": 5,
   "metadata": {},
   "outputs": [],
   "source": [
    "tn = Image.open(io.BytesIO(requests.get(tn_url).content))\n",
    "tn_path = '/Users/martikvm/Documents/ВШЭ/Диплом/tn.jpg'\n",
    "tn.save(tn_path)"
   ]
  },
  {
   "cell_type": "code",
   "execution_count": 6,
   "metadata": {},
   "outputs": [
    {
     "data": {
      "text/plain": [
       "'  \\x0c'"
      ]
     },
     "execution_count": 6,
     "metadata": {},
     "output_type": "execute_result"
    }
   ],
   "source": [
    "tn_text = pytesseract.image_to_string(tn)\n",
    "tn_text = tn_text.replace('\\n', ' ')\n",
    "tn_text"
   ]
  },
  {
   "cell_type": "code",
   "execution_count": 7,
   "metadata": {},
   "outputs": [],
   "source": [
    "for key in ana_keys:\n",
    "    if key in title:\n",
    "        tiktok_hash = True\n",
    "        break\n",
    "for key in ana_keys:\n",
    "    if key in tn_text:\n",
    "        tiktok_tn = True\n",
    "        break"
   ]
  },
  {
   "cell_type": "code",
   "execution_count": 8,
   "metadata": {},
   "outputs": [
    {
     "name": "stdout",
     "output_type": "stream",
     "text": [
      "Model: \"model_3\"\n",
      "__________________________________________________________________________________________________\n",
      "Layer (type)                    Output Shape         Param #     Connected to                     \n",
      "==================================================================================================\n",
      "input_4 (InputLayer)            [(None, 224, 224, 3) 0                                            \n",
      "__________________________________________________________________________________________________\n",
      "conv1_1 (Conv2D)                (None, 224, 224, 64) 1792        input_4[0][0]                    \n",
      "__________________________________________________________________________________________________\n",
      "conv1_2 (Conv2D)                (None, 224, 224, 64) 36928       conv1_1[0][0]                    \n",
      "__________________________________________________________________________________________________\n",
      "pool1 (MaxPooling2D)            (None, 112, 112, 64) 0           conv1_2[0][0]                    \n",
      "__________________________________________________________________________________________________\n",
      "conv2_1 (Conv2D)                (None, 112, 112, 128 73856       pool1[0][0]                      \n",
      "__________________________________________________________________________________________________\n",
      "conv2_2 (Conv2D)                (None, 112, 112, 128 147584      conv2_1[0][0]                    \n",
      "__________________________________________________________________________________________________\n",
      "pool2 (MaxPooling2D)            (None, 56, 56, 128)  0           conv2_2[0][0]                    \n",
      "__________________________________________________________________________________________________\n",
      "conv3_1 (Conv2D)                (None, 56, 56, 256)  295168      pool2[0][0]                      \n",
      "__________________________________________________________________________________________________\n",
      "conv3_2 (Conv2D)                (None, 56, 56, 256)  590080      conv3_1[0][0]                    \n",
      "__________________________________________________________________________________________________\n",
      "conv3_3 (Conv2D)                (None, 56, 56, 256)  590080      conv3_2[0][0]                    \n",
      "__________________________________________________________________________________________________\n",
      "pool3 (MaxPooling2D)            (None, 28, 28, 256)  0           conv3_3[0][0]                    \n",
      "__________________________________________________________________________________________________\n",
      "conv4_1 (Conv2D)                (None, 28, 28, 512)  1180160     pool3[0][0]                      \n",
      "__________________________________________________________________________________________________\n",
      "conv4_2 (Conv2D)                (None, 28, 28, 512)  2359808     conv4_1[0][0]                    \n",
      "__________________________________________________________________________________________________\n",
      "conv4_3 (Conv2D)                (None, 28, 28, 512)  2359808     conv4_2[0][0]                    \n",
      "__________________________________________________________________________________________________\n",
      "pool4 (MaxPooling2D)            (None, 14, 14, 512)  0           conv4_3[0][0]                    \n",
      "__________________________________________________________________________________________________\n",
      "conv5_1 (Conv2D)                (None, 14, 14, 512)  2359808     pool4[0][0]                      \n",
      "__________________________________________________________________________________________________\n",
      "conv5_2 (Conv2D)                (None, 14, 14, 512)  2359808     conv5_1[0][0]                    \n",
      "__________________________________________________________________________________________________\n",
      "conv5_3 (Conv2D)                (None, 14, 14, 512)  2359808     conv5_2[0][0]                    \n",
      "__________________________________________________________________________________________________\n",
      "pool5 (MaxPooling2D)            (None, 7, 7, 512)    0           conv5_3[0][0]                    \n",
      "__________________________________________________________________________________________________\n",
      "flatten_2 (Flatten)             (None, 25088)        0           pool5[0][0]                      \n",
      "__________________________________________________________________________________________________\n",
      "bmi_fc1 (Dense)                 (None, 128)          3211392     flatten_2[0][0]                  \n",
      "__________________________________________________________________________________________________\n",
      "age_fc1 (Dense)                 (None, 128)          3211392     flatten_2[0][0]                  \n",
      "__________________________________________________________________________________________________\n",
      "sex_fc1 (Dense)                 (None, 128)          3211392     flatten_2[0][0]                  \n",
      "__________________________________________________________________________________________________\n",
      "bmi_bn1 (BatchNormalization)    (None, 128)          512         bmi_fc1[0][0]                    \n",
      "__________________________________________________________________________________________________\n",
      "age_bn1 (BatchNormalization)    (None, 128)          512         age_fc1[0][0]                    \n",
      "__________________________________________________________________________________________________\n",
      "sex_bn1 (BatchNormalization)    (None, 128)          512         sex_fc1[0][0]                    \n",
      "__________________________________________________________________________________________________\n",
      "bmi_act1 (Activation)           (None, 128)          0           bmi_bn1[0][0]                    \n",
      "__________________________________________________________________________________________________\n",
      "age_act1 (Activation)           (None, 128)          0           age_bn1[0][0]                    \n",
      "__________________________________________________________________________________________________\n",
      "sex_act1 (Activation)           (None, 128)          0           sex_bn1[0][0]                    \n",
      "__________________________________________________________________________________________________\n",
      "dropout (Dropout)               (None, 128)          0           bmi_act1[0][0]                   \n",
      "__________________________________________________________________________________________________\n",
      "dropout_2 (Dropout)             (None, 128)          0           age_act1[0][0]                   \n",
      "__________________________________________________________________________________________________\n",
      "dropout_4 (Dropout)             (None, 128)          0           sex_act1[0][0]                   \n",
      "__________________________________________________________________________________________________\n",
      "bmi_fc2 (Dense)                 (None, 128)          16512       dropout[0][0]                    \n",
      "__________________________________________________________________________________________________\n",
      "age_fc2 (Dense)                 (None, 128)          16512       dropout_2[0][0]                  \n",
      "__________________________________________________________________________________________________\n",
      "sex_fc2 (Dense)                 (None, 128)          16512       dropout_4[0][0]                  \n",
      "__________________________________________________________________________________________________\n",
      "bmi_bn2 (BatchNormalization)    (None, 128)          512         bmi_fc2[0][0]                    \n",
      "__________________________________________________________________________________________________\n",
      "age_bn2 (BatchNormalization)    (None, 128)          512         age_fc2[0][0]                    \n",
      "__________________________________________________________________________________________________\n",
      "sex_bn2 (BatchNormalization)    (None, 128)          512         sex_fc2[0][0]                    \n",
      "__________________________________________________________________________________________________\n",
      "bmi_act2 (Activation)           (None, 128)          0           bmi_bn2[0][0]                    \n",
      "__________________________________________________________________________________________________\n",
      "age_act2 (Activation)           (None, 128)          0           age_bn2[0][0]                    \n",
      "__________________________________________________________________________________________________\n",
      "sex_act2 (Activation)           (None, 128)          0           sex_bn2[0][0]                    \n",
      "__________________________________________________________________________________________________\n",
      "dropout_1 (Dropout)             (None, 128)          0           bmi_act2[0][0]                   \n",
      "__________________________________________________________________________________________________\n",
      "dropout_3 (Dropout)             (None, 128)          0           age_act2[0][0]                   \n",
      "__________________________________________________________________________________________________\n",
      "dropout_5 (Dropout)             (None, 128)          0           sex_act2[0][0]                   \n",
      "__________________________________________________________________________________________________\n",
      "bmi (Dense)                     (None, 1)            129         dropout_1[0][0]                  \n",
      "__________________________________________________________________________________________________\n",
      "age (Dense)                     (None, 1)            129         dropout_3[0][0]                  \n",
      "__________________________________________________________________________________________________\n",
      "sex (Dense)                     (None, 1)            129         dropout_5[0][0]                  \n",
      "==================================================================================================\n",
      "Total params: 24,401,859\n",
      "Trainable params: 9,685,635\n",
      "Non-trainable params: 14,716,224\n",
      "__________________________________________________________________________________________________\n"
     ]
    }
   ],
   "source": [
    "model = FacePrediction(img_dir = './data/face_aligned/', model_type = 'vgg16')\n",
    "model.define_model(freeze_backbone = True)\n",
    "model.model.summary()\n",
    "model.load_weights('/Users/martikvm/Documents/ВШЭ/Диплом/face2bmi/saved_model/model_vgg16_base.h5')"
   ]
  },
  {
   "cell_type": "code",
   "execution_count": 9,
   "metadata": {},
   "outputs": [],
   "source": [
    "try:\n",
    "    bmi = model.predict_faces(tn_path, color='white')[0][0][0][0]\n",
    "    if bmi < 18.5:\n",
    "        tiktok_bmi = True\n",
    "except:\n",
    "    tiktok_bmi = False"
   ]
  },
  {
   "cell_type": "code",
   "execution_count": 10,
   "metadata": {},
   "outputs": [
    {
     "name": "stdout",
     "output_type": "stream",
     "text": [
      "This tiktok is 40.0% pro-anorexia. I would say it is not a pro-ana content.\n"
     ]
    }
   ],
   "source": [
    "final_result = False\n",
    "final_result_sum = tiktok_hash*0.4 + tiktok_bmi*0.3 + tiktok_tn*0.3\n",
    "if tiktok_hash*0.4 + tiktok_bmi*0.3 + tiktok_tn*0.3>= 0.5:\n",
    "    final_result = True\n",
    "print(\"This tiktok is \" + str(final_result_sum*100) + \"% pro-anorexia. I would say it is \" + (\"\" if final_result else \"not \") + \"a pro-ana content.\")"
   ]
  },
  {
   "cell_type": "code",
   "execution_count": null,
   "metadata": {},
   "outputs": [],
   "source": []
  }
 ],
 "metadata": {
  "kernelspec": {
   "display_name": "Python 3",
   "language": "python",
   "name": "python3"
  },
  "language_info": {
   "codemirror_mode": {
    "name": "ipython",
    "version": 3
   },
   "file_extension": ".py",
   "mimetype": "text/x-python",
   "name": "python",
   "nbconvert_exporter": "python",
   "pygments_lexer": "ipython3",
   "version": "3.8.5"
  }
 },
 "nbformat": 4,
 "nbformat_minor": 2
}
